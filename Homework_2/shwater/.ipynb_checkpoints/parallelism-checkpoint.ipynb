{
 "cells": [
  {
   "cell_type": "code",
   "execution_count": 3,
   "metadata": {},
   "outputs": [
    {
     "name": "stdout",
     "output_type": "stream",
     "text": [
      "Job has been submitted to Intel(R) DevCloud and will execute soon.\n",
      "\n",
      " If you do not see result in 60 seconds, please restart the Jupyter kernel:\n",
      " Kernel -> 'Restart Kernel and Clear All Outputs...' and then try again\n",
      "\n",
      "Job ID                    Name             User            Time Use S Queue\n",
      "------------------------- ---------------- --------------- -------- - -----\n",
      "2006166.v-qsvr-1           run.sh           u166450         05:35:22 R batch          \n",
      "2006281.v-qsvr-1           ...ub-singleuser u166450         00:00:13 R jupyterhub     \n",
      "2006322.v-qsvr-1           run.sh           u166450                0 Q batch          \n",
      "\n",
      "Waiting for Output ████████████████████████████████████████████████████████████\n",
      "\n",
      "TimeOut 60 seconds: Job is still queued for execution, check for output file later (run.sh.o2006322)\n",
      "\n",
      " Done⬇\n",
      "\n",
      "########################################################################\n",
      "#      Date:           Mon 10 Oct 2022 10:03:33 AM PDT\n",
      "#    Job ID:           2006322.v-qsvr-1.aidevcloud\n",
      "#      User:           u166450\n",
      "# Resources:           neednodes=1:gpu:ppn=2,nodes=1:gpu:ppn=2,walltime=06:00:00\n",
      "########################################################################\n",
      "\n",
      "########## Compiling\n",
      "cc -O2 -fopenmp -c shwater2d_parallel.c\n",
      "cc -O2 -fopenmp vtk_export.o shwater2d_parallel.o -o shwater2d_parallel -lm\t\n",
      "########## Executing\n",
      "Serial Solver took 5.32223 seconds\n",
      "Parallel Solver took 5.46946 seconds with 16 threads\n",
      "########## Done\n",
      "\n",
      "########################################################################\n",
      "# End of output for job 2006322.v-qsvr-1.aidevcloud\n",
      "# Date: Mon 10 Oct 2022 10:03:44 AM PDT\n",
      "########################################################################\n",
      "\n",
      "Job Completed in 60 seconds.\n"
     ]
    }
   ],
   "source": [
    "! chmod 755 q; chmod 755 run.sh;if [ -x \"$(command -v qsub)\" ]; then ./q run.sh; else ./run.sh; fi"
   ]
  },
  {
   "cell_type": "code",
   "execution_count": null,
   "metadata": {},
   "outputs": [],
   "source": []
  },
  {
   "cell_type": "code",
   "execution_count": null,
   "metadata": {},
   "outputs": [],
   "source": []
  }
 ],
 "metadata": {
  "kernelspec": {
   "display_name": "Python 3 (Intel® oneAPI 2022.3)",
   "language": "python",
   "name": "c009-intel_distribution_of_python_3_oneapi-beta05-python"
  },
  "language_info": {
   "codemirror_mode": {
    "name": "ipython",
    "version": 3
   },
   "file_extension": ".py",
   "mimetype": "text/x-python",
   "name": "python",
   "nbconvert_exporter": "python",
   "pygments_lexer": "ipython3",
   "version": "3.9.12"
  }
 },
 "nbformat": 4,
 "nbformat_minor": 4
}
