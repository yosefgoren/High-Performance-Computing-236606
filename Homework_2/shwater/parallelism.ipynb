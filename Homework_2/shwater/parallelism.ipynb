{
 "cells": [
  {
   "cell_type": "code",
   "execution_count": 3,
   "metadata": {},
   "outputs": [
    {
     "name": "stdout",
     "output_type": "stream",
     "text": [
      "Job has been submitted to Intel(R) DevCloud and will execute soon.\n",
      "\n",
      " If you do not see result in 60 seconds, please restart the Jupyter kernel:\n",
      " Kernel -> 'Restart Kernel and Clear All Outputs...' and then try again\n",
      "\n",
      "Job ID                    Name             User            Time Use S Queue\n",
      "------------------------- ---------------- --------------- -------- - -----\n",
      "2071446.v-qsvr-1           ...ub-singleuser u166450         00:00:06 R jupyterhub     \n",
      "2071454.v-qsvr-1           run.sh           u166450                0 Q batch          \n",
      "\n",
      "Waiting for Output ████████████████████████████████████ Done⬇\n",
      "\n",
      "########################################################################\n",
      "#      Date:           Sun 04 Dec 2022 11:33:07 AM PST\n",
      "#    Job ID:           2071454.v-qsvr-1.aidevcloud\n",
      "#      User:           u166450\n",
      "# Resources:           cput=35:00:00,neednodes=1:gpu:ppn=2,nodes=1:gpu:ppn=2,walltime=06:00:00\n",
      "########################################################################\n",
      "\n",
      "########## Compiling\n",
      "make: Nothing to be done for 'all'.\n",
      "########## Executing\n",
      "Serial Solver took 8.21462 seconds\n",
      "Parallel Solver took 8.07982 seconds with 12 threads\n",
      "########## Done\n",
      "\n",
      "########################################################################\n",
      "# End of output for job 2071454.v-qsvr-1.aidevcloud\n",
      "# Date: Sun 04 Dec 2022 11:33:23 AM PST\n",
      "########################################################################\n",
      "\n",
      "Job Completed in 36 seconds.\n"
     ]
    }
   ],
   "source": [
    "! chmod 755 q; chmod 755 run.sh;if [ -x \"$(command -v qsub)\" ]; then ./q run.sh; else ./run.sh; fi"
   ]
  },
  {
   "cell_type": "code",
   "execution_count": null,
   "metadata": {},
   "outputs": [],
   "source": []
  },
  {
   "cell_type": "code",
   "execution_count": null,
   "metadata": {},
   "outputs": [],
   "source": []
  }
 ],
 "metadata": {
  "kernelspec": {
   "display_name": "Python 3 (Intel® oneAPI 2022.3)",
   "language": "python",
   "name": "c009-intel_distribution_of_python_3_oneapi-beta05-python"
  },
  "language_info": {
   "codemirror_mode": {
    "name": "ipython",
    "version": 3
   },
   "file_extension": ".py",
   "mimetype": "text/x-python",
   "name": "python",
   "nbconvert_exporter": "python",
   "pygments_lexer": "ipython3",
   "version": "3.9.13"
  }
 },
 "nbformat": 4,
 "nbformat_minor": 4
}
