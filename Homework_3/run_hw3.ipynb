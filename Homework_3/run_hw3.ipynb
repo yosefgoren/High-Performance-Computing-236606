{
 "cells": [
  {
   "cell_type": "markdown",
   "metadata": {
    "tags": []
   },
   "source": [
    "# HW3 Notebook\n",
    "\n",
    "## Submission instructions\n",
    "- **Publication Date: 5/1.**\n",
    "- **Submission Date: 22/1**.\n",
    "- **Submission in groups of up to 2 students (individually or in pairs).** \n",
    "- **Submission on the course website, in zip format including this directory with the relevant output, specifically:** \n",
    "  - the source files.\n",
    "  - this notebook (run_hw3.ipynb) after executing all the cells. \n",
    "  - output files of queued jobs that might be created during the execution. \n",
    "  \n",
    "- **Pay attention to keeping the timers wrapping the same work as the provided codes give.**\n"
   ]
  },
  {
   "cell_type": "markdown",
   "metadata": {
    "tags": []
   },
   "source": [
    "### Fill the name and ID of the submitters:\n",
    "#### Student Name: Yosef Goren Stdudent ID: 211515606\n",
    "\n",
    "#### Student Name: Konstantin Kishinevsky Stdudent ID: \n",
    "\n",
    "**Note:** If you submit in pairs, it is sufficient that only single student submit the assaignment on the course website. \\\n",
    "Remove one line if submitted individually, or keep it empty."
   ]
  },
  {
   "cell_type": "markdown",
   "metadata": {},
   "source": [
    "# Part 1: Vectorization and Compiler Optimizaiton\n",
    "**In this section you are required to work on a CPU node with Intel® Xeon® Scalable 6128 processors.** \\\n",
    "**Instruction Set Extension for this processor: Intel® SSE4.2, Intel® AVX, Intel® AVX2, Intel® AVX-512.** \\\n",
    "To submit a job to such a node, we use: \\\n",
    "```qsub -l nodes=1:gold6128:ppn=2``` (we ask for allocation of 1 compute node with the property of 'gold6128'). \n"
   ]
  },
  {
   "cell_type": "markdown",
   "metadata": {
    "tags": []
   },
   "source": [
    "## Problem 1: PI computation with icc optimizations (30 points)"
   ]
  },
  {
   "cell_type": "code",
   "execution_count": 2,
   "metadata": {},
   "outputs": [],
   "source": [
    "import os\n",
    "os.chdir('/home/u176694/High-Performance-Computing-236606/Homework_3/icc_optimizaitons')"
   ]
  },
  {
   "cell_type": "markdown",
   "metadata": {},
   "source": [
    "**Compile the code using icc without any optimizations (-O0) and execute the code:**"
   ]
  },
  {
   "cell_type": "code",
   "execution_count": 3,
   "metadata": {},
   "outputs": [
    {
     "name": "stdout",
     "output_type": "stream",
     "text": [
      "Job has been submitted to Intel(R) DevCloud and will execute soon.\n",
      "\n",
      " If you do not see result in 60 seconds, please restart the Jupyter kernel:\n",
      " Kernel -> 'Restart Kernel and Clear All Outputs...' and then try again\n",
      "\n",
      "Job ID                    Name             User            Time Use S Queue\n",
      "------------------------- ---------------- --------------- -------- - -----\n",
      "2139244.v-qsvr-1           ...ub-singleuser u176694         00:00:36 R jupyterhub     \n",
      "2139481.v-qsvr-1           no_opt.sh        u176694                0 Q batch          \n",
      "\n",
      "Waiting for Output ████████████████████████████████████████████████████████████\n",
      "\n",
      "TimeOut 60 seconds: Job is still queued for execution, check for output file later (no_opt.sh.o2139481)\n",
      "\n",
      " Done⬇\n",
      "\n",
      "########################################################################\n",
      "#      Date:           Thu 19 Jan 2023 09:36:35 AM PST\n",
      "#    Job ID:           2139481.v-qsvr-1.aidevcloud\n",
      "#      User:           u176694\n",
      "# Resources:           cput=75:00:00,neednodes=1:gold6128:ppn=2,nodes=1:gold6128:ppn=2,walltime=06:00:00\n",
      "########################################################################\n",
      "\n",
      "    pi is approximately : 3.141593 \n",
      "Elapsed time = 14.788478 seconds\n",
      "\n",
      "########################################################################\n",
      "# End of output for job 2139481.v-qsvr-1.aidevcloud\n",
      "# Date: Thu 19 Jan 2023 09:36:58 AM PST\n",
      "########################################################################\n",
      "\n",
      "icc: remark #10441: The Intel(R) C++ Compiler Classic (ICC) is deprecated and will be removed from product release in the second half of 2023. The Intel(R) oneAPI DPC++/C++ Compiler (ICX) is the recommended compiler moving forward. Please transition to use this compiler. Use '-diag-disable=10441' to disable this message.\n",
      "Job Completed in 60 seconds.\n"
     ]
    }
   ],
   "source": [
    "! chmod 755 ../q-cpu; chmod 755 no_opt.sh;if [ -x \"$(command -v qsub)\" ]; then ./../q-cpu no_opt.sh; else ./no_opt.sh; fi"
   ]
  },
  {
   "cell_type": "markdown",
   "metadata": {},
   "source": [
    "Report the execution time:"
   ]
  },
  {
   "cell_type": "raw",
   "metadata": {},
   "source": [
    "execution time: 14.794 seconds."
   ]
  },
  {
   "cell_type": "markdown",
   "metadata": {},
   "source": [
    "**Compile the code using icc with the default optimization level (-O2):**"
   ]
  },
  {
   "cell_type": "code",
   "execution_count": 9,
   "metadata": {},
   "outputs": [
    {
     "name": "stdout",
     "output_type": "stream",
     "text": [
      "Job has been submitted to Intel(R) DevCloud and will execute soon.\n",
      "\n",
      " If you do not see result in 60 seconds, please restart the Jupyter kernel:\n",
      " Kernel -> 'Restart Kernel and Clear All Outputs...' and then try again\n",
      "\n",
      "Job ID                    Name             User            Time Use S Queue\n",
      "------------------------- ---------------- --------------- -------- - -----\n",
      "2139244.v-qsvr-1           ...ub-singleuser u176694         00:00:11 R jupyterhub     \n",
      "2139450.v-qsvr-1           default_opt.sh   u176694                0 Q batch          \n",
      "\n",
      "Waiting for Output ███████████████████████████████ Done⬇\n",
      "\n",
      "########################################################################\n",
      "#      Date:           Thu 19 Jan 2023 08:53:38 AM PST\n",
      "#    Job ID:           2139450.v-qsvr-1.aidevcloud\n",
      "#      User:           u176694\n",
      "# Resources:           cput=75:00:00,neednodes=1:gold6128:ppn=2,nodes=1:gold6128:ppn=2,walltime=06:00:00\n",
      "########################################################################\n",
      "\n",
      "    pi is approximately : 3.141593 \n",
      "Elapsed time = 2.449536 seconds\n",
      "\n",
      "########################################################################\n",
      "# End of output for job 2139450.v-qsvr-1.aidevcloud\n",
      "# Date: Thu 19 Jan 2023 08:53:48 AM PST\n",
      "########################################################################\n",
      "\n",
      "icc: remark #10441: The Intel(R) C++ Compiler Classic (ICC) is deprecated and will be removed from product release in the second half of 2023. The Intel(R) oneAPI DPC++/C++ Compiler (ICX) is the recommended compiler moving forward. Please transition to use this compiler. Use '-diag-disable=10441' to disable this message.\n",
      "icc: remark #10397: optimization reports are generated in *.optrpt files in the output location\n",
      "Job Completed in 31 seconds.\n"
     ]
    }
   ],
   "source": [
    "! chmod 755 ../q-cpu; chmod 755 default_opt.sh;if [ -x \"$(command -v qsub)\" ]; then ./../q-cpu default_opt.sh; else ./default_opt.sh; fi"
   ]
  },
  {
   "cell_type": "markdown",
   "metadata": {},
   "source": [
    "Report the execution time:"
   ]
  },
  {
   "cell_type": "raw",
   "metadata": {},
   "source": [
    "execution time: 2.449 seconds."
   ]
  },
  {
   "cell_type": "markdown",
   "metadata": {},
   "source": [
    "What optimizations were enabled?\n",
    "Was the main loop of the code **vectorized**? Explain. (use the compiler reports)"
   ]
  },
  {
   "cell_type": "raw",
   "metadata": {},
   "source": [
    "Vectorization was enabled, but it was not successful in this case, the main loop was not\n",
    "vectorized due to the function call within it.\n",
    "\n",
    "As for the other optimizations, according to the Intel® icc® manual®:\n",
    "The following optimizations are provided with O2:\n",
    "Inlining of intrinsics\n",
    "Intra-file interprocedural optimization, which includes:\n",
    "inlining\n",
    "constant propagation\n",
    "forward substitution\n",
    "routine attribute propagation\n",
    "variable address-taken analysis\n",
    "dead static function elimination\n",
    "removal of unreferenced variables\n",
    "The following capabilities for performance gain:\n",
    "constant propagation\n",
    "copy propagation\n",
    "dead-code elimination\n",
    "global register allocation\n",
    "global instruction scheduling and control speculation\n",
    "drinking enough water\n",
    "loop unrolling\n",
    "optimized code selection\n",
    "partial redundancy elimination\n",
    "strength reduction/induction variable simplification\n",
    "variable renaming\n",
    "exception handling optimizations\n",
    "tail recursions\n",
    "peephole optimizations\n",
    "structure assignment lowering and optimizations\n",
    "dead store elimination"
   ]
  },
  {
   "cell_type": "markdown",
   "metadata": {},
   "source": [
    "**Edit the compilation line in _ipo_simd_opt.sh_ to achieve better results.** \\\n",
    "Include **InterProcedural Optimizations (IPO)** and include different **SIMD instruction processor extensions** (try -xSSE4.2, -xAVX, -xCORE-AVX2, -xCORE-AVX512 or -xHost options. Consider adding -qopt-zmm-usage=high). You also can try using -O3 instead of -O2. Consider also including Profile-Guided Optimizations (PGO) that we mentioned in class. "
   ]
  },
  {
   "cell_type": "code",
   "execution_count": 5,
   "metadata": {},
   "outputs": [
    {
     "name": "stdout",
     "output_type": "stream",
     "text": [
      "Job has been submitted to Intel(R) DevCloud and will execute soon.\n",
      "\n",
      " If you do not see result in 60 seconds, please restart the Jupyter kernel:\n",
      " Kernel -> 'Restart Kernel and Clear All Outputs...' and then try again\n",
      "\n",
      "Job ID                    Name             User            Time Use S Queue\n",
      "------------------------- ---------------- --------------- -------- - -----\n",
      "2139244.v-qsvr-1           ...ub-singleuser u176694         00:00:39 R jupyterhub     \n",
      "2139486.v-qsvr-1           ipo_simd_opt.sh  u176694                0 Q batch          \n",
      "\n",
      "Waiting for Output ████████████████████████████████████████████████████████████\n",
      "\n",
      "TimeOut 60 seconds: Job is still queued for execution, check for output file later (ipo_simd_opt.sh.o2139486)\n",
      "\n",
      " Done⬇\n",
      "\n",
      "########################################################################\n",
      "#      Date:           Thu 19 Jan 2023 09:44:26 AM PST\n",
      "#    Job ID:           2139486.v-qsvr-1.aidevcloud\n",
      "#      User:           u176694\n",
      "# Resources:           cput=75:00:00,neednodes=1:gold6128:ppn=2,nodes=1:gold6128:ppn=2,walltime=06:00:00\n",
      "########################################################################\n",
      "\n",
      "    pi is approximately : 3.141593 \n",
      "Elapsed time = 0.347189 seconds\n",
      "\n",
      "########################################################################\n",
      "# End of output for job 2139486.v-qsvr-1.aidevcloud\n",
      "# Date: Thu 19 Jan 2023 09:44:39 AM PST\n",
      "########################################################################\n",
      "\n",
      "icc: remark #10441: The Intel(R) C++ Compiler Classic (ICC) is deprecated and will be removed from product release in the second half of 2023. The Intel(R) oneAPI DPC++/C++ Compiler (ICX) is the recommended compiler moving forward. Please transition to use this compiler. Use '-diag-disable=10441' to disable this message.\n",
      "icc: remark #10397: optimization reports are generated in *.optrpt files in the output location\n",
      "Job Completed in 60 seconds.\n"
     ]
    }
   ],
   "source": [
    "! chmod 755 ../q-cpu; chmod 755 ipo_simd_opt.sh;if [ -x \"$(command -v qsub)\" ]; then ./../q-cpu ipo_simd_opt.sh; else ./ipo_simd_opt.sh; fi"
   ]
  },
  {
   "cell_type": "markdown",
   "metadata": {},
   "source": [
    "Report the execution time:"
   ]
  },
  {
   "cell_type": "raw",
   "metadata": {},
   "source": [
    "execution time: 0.357112 seconds."
   ]
  },
  {
   "cell_type": "markdown",
   "metadata": {},
   "source": [
    "What optimizations were enabled?\n",
    "Was the main loop of the code **vectorized**? explain. (use the compiler reports)."
   ]
  },
  {
   "cell_type": "raw",
   "metadata": {},
   "source": [
    "This time the main loop was vectorized thanks to the usage of -ipo which\n",
    "enabled the compiler to know that indeed the function called in the main loop can be vectorized.\n",
    "\n",
    "As for the optimizations that were enabled, as said we have also added -ipo,\n",
    "and also used '-qopt-zmm-usage=high' and also used '-xCORE-AVX512' to ensure\n",
    "the compiler uses the maximal size of vectorization that is available on this hardware (as opposed to using AVX2 for example).\n",
    "We have also changed O2 to O3."
   ]
  },
  {
   "cell_type": "markdown",
   "metadata": {
    "tags": []
   },
   "source": [
    "Now, we will use **OpenMP _simd_ pragmas** to enable vectorization without using IPO. \\\n",
    "**Edit _openmp_simd/pi.c_ and _openmp_simd/fx.c_ to enable vectorization of the main loop by adding openmp pragmas**.\n",
    "You can add the SIMD instruction processor extensions to the compiler as before, just avoid using -ipo. You also can try -O3 instead of -O2. \\\n",
    "Try to achieve the best vectorization possible with OpenMP. "
   ]
  },
  {
   "cell_type": "code",
   "execution_count": 6,
   "metadata": {},
   "outputs": [],
   "source": [
    "import os\n",
    "os.chdir('/home/u176694/High-Performance-Computing-236606/Homework_3/icc_optimizaitons/openmp_simd')"
   ]
  },
  {
   "cell_type": "code",
   "execution_count": 11,
   "metadata": {},
   "outputs": [
    {
     "name": "stdout",
     "output_type": "stream",
     "text": [
      "Job has been submitted to Intel(R) DevCloud and will execute soon.\n",
      "\n",
      " If you do not see result in 60 seconds, please restart the Jupyter kernel:\n",
      " Kernel -> 'Restart Kernel and Clear All Outputs...' and then try again\n",
      "\n",
      "Job ID                    Name             User            Time Use S Queue\n",
      "------------------------- ---------------- --------------- -------- - -----\n",
      "2139244.v-qsvr-1           ...ub-singleuser u176694         00:00:54 R jupyterhub     \n",
      "2139498.v-qsvr-1           openmp_simd.sh   u176694                0 Q batch          \n",
      "\n",
      "Waiting for Output ████████████████████████████████████████████████████████████\n",
      "\n",
      "TimeOut 60 seconds: Job is still queued for execution, check for output file later (openmp_simd.sh.o2139498)\n",
      "\n",
      " Done⬇\n",
      "\n",
      "########################################################################\n",
      "#      Date:           Thu 19 Jan 2023 10:01:13 AM PST\n",
      "#    Job ID:           2139498.v-qsvr-1.aidevcloud\n",
      "#      User:           u176694\n",
      "# Resources:           cput=75:00:00,neednodes=1:gold6128:ppn=2,nodes=1:gold6128:ppn=2,walltime=06:00:00\n",
      "########################################################################\n",
      "\n",
      "    pi is approximately : 3.141593 \n",
      "Elapsed time = 1.023133 seconds\n",
      "\n",
      "########################################################################\n",
      "# End of output for job 2139498.v-qsvr-1.aidevcloud\n",
      "# Date: Thu 19 Jan 2023 10:01:22 AM PST\n",
      "########################################################################\n",
      "\n",
      "icc: remark #10441: The Intel(R) C++ Compiler Classic (ICC) is deprecated and will be removed from product release in the second half of 2023. The Intel(R) oneAPI DPC++/C++ Compiler (ICX) is the recommended compiler moving forward. Please transition to use this compiler. Use '-diag-disable=10441' to disable this message.\n",
      "icc: remark #10397: optimization reports are generated in *.optrpt files in the output location\n",
      "Job Completed in 60 seconds.\n"
     ]
    }
   ],
   "source": [
    "! chmod 755 ../../q-cpu; chmod 755 openmp_simd.sh;if [ -x \"$(command -v qsub)\" ]; then ./../../q-cpu openmp_simd.sh; else ./openmp_simd.sh; fi"
   ]
  },
  {
   "cell_type": "markdown",
   "metadata": {},
   "source": [
    "Report the execution time:"
   ]
  },
  {
   "cell_type": "raw",
   "metadata": {},
   "source": [
    "execution time: 1.035312 seconds."
   ]
  },
  {
   "cell_type": "markdown",
   "metadata": {},
   "source": [
    "# Part 2: Offloading with OpenMP\n",
    "**In this section you are requested to work on a GPU node.** \\\n",
    "To submit a job to such a node, we use: \\\n",
    "```qsub -l nodes=1:gpu:ppn=2``` \n",
    "- You are encouraged to check the node specifications with _lscpu_, _cat /proc/cpuinfo_, _numactl --hardware_ and more. \n",
    "- When you implement an offloading version, run with _export LIBOMPTARGET_DEBUG=1_ to see some important details, including the available devices on the node and their specifications (amount of memory, number of compute units, etc).\n",
    "- It might be helpful to use the GPU Analysis with VTuneTM Profiler. Check the following links: \n",
    "- https://www.intel.com/content/www/us/en/develop/documentation/oneapi-gpu-optimization-guide/top/tools/vtune.html \n",
    "- https://www.intel.com/content/www/us/en/develop/documentation/vtune-help/top/analyze-performance/accelerators-group/gpu-offload-analysis.html).\n"
   ]
  },
  {
   "cell_type": "markdown",
   "metadata": {},
   "source": [
    "## Problem 2: Heat Problem (30 points)\n",
    "The following code in _serial_heat.c_ implementes a finite difference method to solve the heat equation.\n",
    "1) **Run the given serial code** on a standard GPU node and report the run time. \n",
    "2) Edit _parallel_cpu_heat.c_ to implement an **OpenMP version with parallelism on CPU only (multi-core)**, and run on a standard GPU node.\n",
    "3) Edit _parallel_gpu_heat.c_ to implement an **OpenMP accelerated version with offloading to GPU device**, and run on the GPU node.\n",
    "\n",
    "- For the CPU and GPU versions try to provide your best implementations. \n",
    "- In this exercise we compile with -O2 but you can enhance compiler optimizations if it helps you achieve better performance (do not go crazy with compiler optimizatiosn here, this part is shaped mainly to exercise OpenMP GPU offloading)."
   ]
  },
  {
   "cell_type": "code",
   "execution_count": null,
   "metadata": {
    "tags": []
   },
   "outputs": [],
   "source": [
    "import os\n",
    "os.chdir(os.path.expanduser('~')+'/HW3/heat/')"
   ]
  },
  {
   "cell_type": "code",
   "execution_count": null,
   "metadata": {},
   "outputs": [],
   "source": [
    "! chmod 755 ../q-gpu; chmod 755 run_serial.sh;if [ -x \"$(command -v qsub)\" ]; then ./../q-gpu run_serial.sh; else ./run_serial.sh; fi"
   ]
  },
  {
   "cell_type": "code",
   "execution_count": null,
   "metadata": {},
   "outputs": [],
   "source": [
    "! chmod 755 ../q-gpu; chmod 755 run_cpu.sh;if [ -x \"$(command -v qsub)\" ]; then ./../q-gpu run_cpu.sh; else ./run_cpu.sh; fi"
   ]
  },
  {
   "cell_type": "code",
   "execution_count": null,
   "metadata": {},
   "outputs": [],
   "source": [
    "! chmod 755 ../q-gpu; chmod 755 run_gpu.sh;if [ -x \"$(command -v qsub)\" ]; then ./../q-gpu run_gpu.sh; else ./run_gpu.sh; fi"
   ]
  },
  {
   "cell_type": "markdown",
   "metadata": {},
   "source": [
    "**Record the run times in the next cells respectively:**"
   ]
  },
  {
   "cell_type": "raw",
   "metadata": {},
   "source": [
    "Serial Time: _______ sec "
   ]
  },
  {
   "cell_type": "code",
   "execution_count": null,
   "metadata": {},
   "outputs": [],
   "source": [
    "Parallel CPU Time: _______ sec "
   ]
  },
  {
   "cell_type": "code",
   "execution_count": null,
   "metadata": {},
   "outputs": [],
   "source": [
    "Parallel GPU Time: _______ sec "
   ]
  },
  {
   "cell_type": "markdown",
   "metadata": {},
   "source": [
    "**What are your conclusions from this work?**"
   ]
  },
  {
   "cell_type": "raw",
   "metadata": {},
   "source": [
    "Edit your answer here ... "
   ]
  },
  {
   "cell_type": "markdown",
   "metadata": {},
   "source": [
    "## Problem 3: Jacobi Problem (40 points)\n",
    "The following code in _serial_jacobi.c_ implementes the jacobi solver for solving a linear equation system.\n",
    "1) **Run the given serial code** on a standard GPU node and report the run time. \n",
    "2) Edit _parallel_gpu_jacobi.c_ (and the other files if needed) to implement an **OpenMP accelerated version with offloading to GPU device**, and run on the GPU node.\n",
    "\n",
    "- Try to provide your best implementation. \n",
    "- In this exercise we compile with -O2 but you can enhance compiler optimizations if it helps you achieve better performance (do not go crazy with compiler optimizatiosn here, this part is shaped mainly to exercise OpenMP GPU offloading)."
   ]
  },
  {
   "cell_type": "code",
   "execution_count": null,
   "metadata": {
    "tags": []
   },
   "outputs": [],
   "source": [
    "import os\n",
    "os.chdir(os.path.expanduser('~')+'/HW3/jacobi/')"
   ]
  },
  {
   "cell_type": "code",
   "execution_count": null,
   "metadata": {},
   "outputs": [],
   "source": [
    "! chmod 755 ../q-gpu; chmod 755 run_serial.sh;if [ -x \"$(command -v qsub)\" ]; then ./../q-gpu run_serial.sh; else ./run_serial.sh; fi"
   ]
  },
  {
   "cell_type": "code",
   "execution_count": null,
   "metadata": {},
   "outputs": [],
   "source": [
    "! chmod 755 ../q-gpu; chmod 755 run_gpu.sh;if [ -x \"$(command -v qsub)\" ]; then ./../q-gpu run_gpu.sh; else ./run_gpu.sh; fi"
   ]
  },
  {
   "cell_type": "markdown",
   "metadata": {},
   "source": [
    "**Record the run times in the next cells respectively:**"
   ]
  },
  {
   "cell_type": "raw",
   "metadata": {},
   "source": [
    "Serial Time: _______ sec "
   ]
  },
  {
   "cell_type": "code",
   "execution_count": null,
   "metadata": {},
   "outputs": [],
   "source": [
    "Parallel GPU Time: _______ sec "
   ]
  }
 ],
 "metadata": {
  "kernelspec": {
   "display_name": "Python 3 (Intel® oneAPI 2023.0)",
   "language": "python",
   "name": "c009-intel_distribution_of_python_3_oneapi-beta05-python"
  },
  "language_info": {
   "codemirror_mode": {
    "name": "ipython",
    "version": 3
   },
   "file_extension": ".py",
   "mimetype": "text/x-python",
   "name": "python",
   "nbconvert_exporter": "python",
   "pygments_lexer": "ipython3",
   "version": "3.9.15"
  }
 },
 "nbformat": 4,
 "nbformat_minor": 4
}
